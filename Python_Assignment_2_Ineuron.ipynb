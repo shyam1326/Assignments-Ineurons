{
  "nbformat": 4,
  "nbformat_minor": 0,
  "metadata": {
    "colab": {
      "name": "Python Assignment 2 - Ineuron.ipynb",
      "provenance": [],
      "collapsed_sections": [],
      "authorship_tag": "ABX9TyMi3VQ6YYjVO3W7hV0RJAla",
      "include_colab_link": true
    },
    "kernelspec": {
      "name": "python3",
      "display_name": "Python 3"
    }
  },
  "cells": [
    {
      "cell_type": "markdown",
      "metadata": {
        "id": "view-in-github",
        "colab_type": "text"
      },
      "source": [
        "<a href=\"https://colab.research.google.com/github/shyam1326/Assignments-Ineurons/blob/master/Python_Assignment_2_Ineuron.ipynb\" target=\"_parent\"><img src=\"https://colab.research.google.com/assets/colab-badge.svg\" alt=\"Open In Colab\"/></a>"
      ]
    },
    {
      "cell_type": "markdown",
      "metadata": {
        "id": "0mLahX6JOUKA",
        "colab_type": "text"
      },
      "source": [
        "# Python Assignment 2"
      ]
    },
    {
      "cell_type": "markdown",
      "metadata": {
        "id": "8G-ofPAlOro7",
        "colab_type": "text"
      },
      "source": [
        "1. Create the below pattern using nested for loop in Python.\n",
        "* <br>\n",
        "* * <br>\n",
        "* * * <br>\n",
        "* * * * <br>\n",
        "* * * * * <br>\n",
        "* * * * <br>\n",
        "* * * <br>\n",
        "* * <br>\n",
        "* <br>\n"
      ]
    },
    {
      "cell_type": "code",
      "metadata": {
        "id": "C4x_fXCbOy5j",
        "colab_type": "code",
        "colab": {
          "base_uri": "https://localhost:8080/",
          "height": 185
        },
        "outputId": "67707286-4c84-485b-de20-96a1ada1c002"
      },
      "source": [
        "for i in range(0,5+1):\n",
        "    for j in range(i):\n",
        "        print('*', end = '')\n",
        "    print('')\n",
        "\n",
        "for i in range(4,0,-1):\n",
        "    for j in range(i):\n",
        "        print('*', end = '')\n",
        "    print('')"
      ],
      "execution_count": null,
      "outputs": [
        {
          "output_type": "stream",
          "text": [
            "\n",
            "*\n",
            "**\n",
            "***\n",
            "****\n",
            "*****\n",
            "****\n",
            "***\n",
            "**\n",
            "*\n"
          ],
          "name": "stdout"
        }
      ]
    },
    {
      "cell_type": "markdown",
      "metadata": {
        "id": "y_upHWYoUfb-",
        "colab_type": "text"
      },
      "source": [
        "2. Write a Python program to reverse a word after accepting the input from the user. <br>\n",
        "Input word: ineuron <br>\n",
        "Output: norueni"
      ]
    },
    {
      "cell_type": "code",
      "metadata": {
        "id": "_Nqcj0i5Q4WC",
        "colab_type": "code",
        "colab": {
          "base_uri": "https://localhost:8080/",
          "height": 52
        },
        "outputId": "79cf43d9-01be-4d28-e27c-a5439ded4bd8"
      },
      "source": [
        "name = str(input('Enter any word: '))\n",
        "name[::-1]"
      ],
      "execution_count": null,
      "outputs": [
        {
          "output_type": "stream",
          "text": [
            "Enter any word: ineuron\n"
          ],
          "name": "stdout"
        },
        {
          "output_type": "execute_result",
          "data": {
            "application/vnd.google.colaboratory.intrinsic": {
              "type": "string"
            },
            "text/plain": [
              "'norueni'"
            ]
          },
          "metadata": {
            "tags": []
          },
          "execution_count": 37
        }
      ]
    },
    {
      "cell_type": "code",
      "metadata": {
        "id": "mwzMwKgrWrI9",
        "colab_type": "code",
        "colab": {}
      },
      "source": [
        ""
      ],
      "execution_count": null,
      "outputs": []
    }
  ]
}