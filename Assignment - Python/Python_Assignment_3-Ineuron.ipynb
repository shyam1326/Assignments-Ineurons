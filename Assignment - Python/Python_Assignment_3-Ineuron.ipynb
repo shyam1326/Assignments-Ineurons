{
  "nbformat": 4,
  "nbformat_minor": 0,
  "metadata": {
    "colab": {
      "name": "Python Assignment 3 - Ineuron.ipynb",
      "provenance": [],
      "collapsed_sections": []
    },
    "kernelspec": {
      "name": "python3",
      "display_name": "Python 3"
    }
  },
  "cells": [
    {
      "cell_type": "markdown",
      "metadata": {
        "id": "ualCCL3XKfIg",
        "colab_type": "text"
      },
      "source": [
        "1.1 Write a Python Program to implement your own myreduce() function which works exactly\n",
        "like Python's built-in function reduce()"
      ]
    },
    {
      "cell_type": "code",
      "metadata": {
        "id": "asnZ66w8KhLw",
        "colab_type": "code",
        "colab": {}
      },
      "source": [
        "def my_reduce(function, lst):\n",
        "    x = lst[0]\n",
        "    for i in lst:\n",
        "        x = function(x,i)\n",
        "    return x"
      ],
      "execution_count": 54,
      "outputs": []
    },
    {
      "cell_type": "code",
      "metadata": {
        "id": "KLY3TQRiLw-z",
        "colab_type": "code",
        "colab": {
          "base_uri": "https://localhost:8080/",
          "height": 34
        },
        "outputId": "9f77be9b-ff91-4a19-e162-98ffda24a85c"
      },
      "source": [
        "max_find = lambda a,b: a if (a > b) else b\n",
        "lst =[15,47,11,1000,42,13,502, 1001]\n",
        "my_reduce(max_find,lst)"
      ],
      "execution_count": 56,
      "outputs": [
        {
          "output_type": "execute_result",
          "data": {
            "text/plain": [
              "1001"
            ]
          },
          "metadata": {
            "tags": []
          },
          "execution_count": 56
        }
      ]
    },
    {
      "cell_type": "markdown",
      "metadata": {
        "id": "ubSSSwAUKpmd",
        "colab_type": "text"
      },
      "source": [
        "1.2 Write a Python program to implement your own myfilter() function which works exactly\n",
        "like Python's built-in function filter()"
      ]
    },
    {
      "cell_type": "code",
      "metadata": {
        "id": "NOlYE0YYNvzE",
        "colab_type": "code",
        "colab": {}
      },
      "source": [
        "def my_filter(function, lst):\n",
        "    s = []\n",
        "    for i in lst:\n",
        "        if function(i):\n",
        "            s. append(i)\n",
        "    return s"
      ],
      "execution_count": 31,
      "outputs": []
    },
    {
      "cell_type": "code",
      "metadata": {
        "id": "vzHBadbTLZH-",
        "colab_type": "code",
        "colab": {
          "base_uri": "https://localhost:8080/",
          "height": 34
        },
        "outputId": "60af66ae-731e-4b33-b4fc-666ad9bf894f"
      },
      "source": [
        "lst =[1,2,3,4,5,6,7,8,9,10]\n",
        "\n",
        "list(my_filter(lambda x: x%2 != 0,lst))"
      ],
      "execution_count": 38,
      "outputs": [
        {
          "output_type": "execute_result",
          "data": {
            "text/plain": [
              "[1, 3, 5, 7, 9]"
            ]
          },
          "metadata": {
            "tags": []
          },
          "execution_count": 38
        }
      ]
    },
    {
      "cell_type": "markdown",
      "metadata": {
        "id": "HR1t2oDXPOEg",
        "colab_type": "text"
      },
      "source": [
        "2. Implement List comprehensions to produce the following lists.\n",
        "Write List comprehensions to produce the following Lists <br>\n",
        "['A', 'C', 'A', 'D', 'G', 'I', ’L’, ‘ D’]<br>\n",
        "['x', 'xx', 'xxx', 'xxxx', 'y', 'yy', 'yyy', 'yyyy', 'z', 'zz', 'zzz', 'zzzz']<br>\n",
        "['x', 'y', 'z', 'xx', 'yy', 'zz', 'xxx', 'yyy', 'zzz', 'xxxx', 'yyyy', 'zzzz']<br>\n",
        "[[2], [3], [4], [3], [4], [5], [4], [5], [6]] [[2, 3, 4, 5], [3, 4, 5, 6],\n",
        "[4, 5, 6, 7], [5, 6, 7, 8]]<br>\n",
        "[(1, 1), (2, 1), (3, 1), (1, 2), (2, 2), (3, 2), (1, 3), (2, 3), (3, 3)]"
      ]
    },
    {
      "cell_type": "code",
      "metadata": {
        "id": "y3Rmu-26ZCud",
        "colab_type": "code",
        "colab": {
          "base_uri": "https://localhost:8080/",
          "height": 50
        },
        "outputId": "7872a9cc-eb36-4d37-a0a7-e77e346c862f"
      },
      "source": [
        "word = 'ACADGILD'\n",
        "s = [i for i in word]\n",
        "print(s)\n",
        "\n",
        "\n",
        "s = []\n",
        "for i in word:\n",
        "    s.append(i)\n",
        "print(s)"
      ],
      "execution_count": 111,
      "outputs": [
        {
          "output_type": "stream",
          "text": [
            "['A', 'C', 'A', 'D', 'G', 'I', 'L', 'D']\n",
            "['A', 'C', 'A', 'D', 'G', 'I', 'L', 'D']\n"
          ],
          "name": "stdout"
        }
      ]
    },
    {
      "cell_type": "code",
      "metadata": {
        "id": "XPuQHigCP1b0",
        "colab_type": "code",
        "colab": {
          "base_uri": "https://localhost:8080/",
          "height": 34
        },
        "outputId": "e5a21f7b-7ece-4959-94d4-69259a578e20"
      },
      "source": [
        "lst = [i*j for j in range(1,5) for i in ['x', 'y', 'z']]\n",
        "lst"
      ],
      "execution_count": 48,
      "outputs": [
        {
          "output_type": "execute_result",
          "data": {
            "text/plain": [
              "['x', 'y', 'z', 'xx', 'yy', 'zz', 'xxx', 'yyy', 'zzz', 'xxxx', 'yyyy', 'zzzz']"
            ]
          },
          "metadata": {
            "tags": []
          },
          "execution_count": 48
        }
      ]
    },
    {
      "cell_type": "code",
      "metadata": {
        "id": "VzJypS8uPEWb",
        "colab_type": "code",
        "colab": {
          "base_uri": "https://localhost:8080/",
          "height": 34
        },
        "outputId": "240266a9-1169-43e4-f0be-3fd6aa0ed49a"
      },
      "source": [
        "lst = [i*j for j in range(1,5) for i in ['x', 'y', 'z']]\n",
        "lst.sort()\n",
        "lst"
      ],
      "execution_count": 47,
      "outputs": [
        {
          "output_type": "execute_result",
          "data": {
            "text/plain": [
              "['x', 'y', 'z', 'xx', 'yy', 'zz', 'xxx', 'yyy', 'zzz', 'xxxx', 'yyyy', 'zzzz']"
            ]
          },
          "metadata": {
            "tags": []
          },
          "execution_count": 47
        }
      ]
    },
    {
      "cell_type": "code",
      "metadata": {
        "id": "_J0IVVu0RHaw",
        "colab_type": "code",
        "colab": {
          "base_uri": "https://localhost:8080/",
          "height": 34
        },
        "outputId": "53a58d27-9d89-4ca4-81a4-9f603570e60c"
      },
      "source": [
        "input_list = [2,3,4]\n",
        "result = [[i+j] for i in input_list for j in range(0,3)]\n",
        "result_1 = [[i+j for i in [2,3,4,5]] for j in range(0,4)]\n",
        "print(result, result_1)"
      ],
      "execution_count": 86,
      "outputs": [
        {
          "output_type": "stream",
          "text": [
            "[[2], [3], [4], [3], [4], [5], [4], [5], [6]] [[2, 3, 4, 5], [3, 4, 5, 6], [4, 5, 6, 7], [5, 6, 7, 8]]\n"
          ],
          "name": "stdout"
        }
      ]
    },
    {
      "cell_type": "code",
      "metadata": {
        "id": "zwEDZk3YqH3l",
        "colab_type": "code",
        "colab": {
          "base_uri": "https://localhost:8080/",
          "height": 34
        },
        "outputId": "a99f781f-8647-42ba-aef5-25706cf3d9a6"
      },
      "source": [
        " [(j,i) for i in range(1,4) for j in [1,2,3]]"
      ],
      "execution_count": 7,
      "outputs": [
        {
          "output_type": "execute_result",
          "data": {
            "text/plain": [
              "[(1, 1), (2, 1), (3, 1), (1, 2), (2, 2), (3, 2), (1, 3), (2, 3), (3, 3)]"
            ]
          },
          "metadata": {
            "tags": []
          },
          "execution_count": 7
        }
      ]
    }
  ]
}