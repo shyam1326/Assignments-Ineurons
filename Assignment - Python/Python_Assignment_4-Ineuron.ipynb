{
  "nbformat": 4,
  "nbformat_minor": 0,
  "metadata": {
    "colab": {
      "name": "Python Assignment 4 - Ineuron.ipynb",
      "provenance": [],
      "collapsed_sections": []
    },
    "kernelspec": {
      "name": "python3",
      "display_name": "Python 3"
    }
  },
  "cells": [
    {
      "cell_type": "markdown",
      "metadata": {
        "id": "PJJAl67U8mad",
        "colab_type": "text"
      },
      "source": [
        "1.1 Write a Python Program(with class concepts) to find the area of the triangle using the below\n",
        "formula.\n",
        "area = (s*(s-a)*(s-b)*(s-c)) ** 0.5\n",
        "Function to take the length of the sides of triangle from user should be defined in the parent\n",
        "class and function to calculate the area should be defined in subclass.\n"
      ]
    },
    {
      "cell_type": "code",
      "metadata": {
        "id": "eKD8aZWnyuMQ",
        "colab_type": "code",
        "colab": {}
      },
      "source": [
        "import numpy as np"
      ],
      "execution_count": 130,
      "outputs": []
    },
    {
      "cell_type": "code",
      "metadata": {
        "id": "c9h64Kbx8ZAX",
        "colab_type": "code",
        "colab": {}
      },
      "source": [
        "class c1:\n",
        "    def __init__(self,a,b,c):\n",
        "        self.a = a\n",
        "        self.b = b\n",
        "        self.c = c"
      ],
      "execution_count": 112,
      "outputs": []
    },
    {
      "cell_type": "code",
      "metadata": {
        "id": "7NcvIr4D9hqS",
        "colab_type": "code",
        "colab": {}
      },
      "source": [
        "class triangle(c1):\n",
        "    def area(self):\n",
        "        s = (self.a+self.b+self.c)/2\n",
        "        x =  np.sqrt(s*(s-self.a)*(s-self.b)*(s-self.c))      # ** 0.5\n",
        "        return x"
      ],
      "execution_count": 135,
      "outputs": []
    },
    {
      "cell_type": "code",
      "metadata": {
        "id": "vaQzP3MF-Scm",
        "colab_type": "code",
        "colab": {
          "base_uri": "https://localhost:8080/",
          "height": 34
        },
        "outputId": "93a41948-dc0b-4e1d-8bf2-6043c39bb7e7"
      },
      "source": [
        "lst = triangle(10,8,4)\n",
        "lst.area()"
      ],
      "execution_count": 136,
      "outputs": [
        {
          "output_type": "execute_result",
          "data": {
            "text/plain": [
              "15.198684153570664"
            ]
          },
          "metadata": {
            "tags": []
          },
          "execution_count": 136
        }
      ]
    },
    {
      "cell_type": "markdown",
      "metadata": {
        "id": "EU7Y0sDGo3CH",
        "colab_type": "text"
      },
      "source": [
        "1.2 Write a function filter_long_words() that takes a list of words and an integer n and returns\n",
        "the list of words that are longer than n."
      ]
    },
    {
      "cell_type": "code",
      "metadata": {
        "id": "5dCThXJ-nfsK",
        "colab_type": "code",
        "colab": {}
      },
      "source": [
        "def filter_long_words(word, n):\n",
        "    lst = []\n",
        "    for i in range(len(word)):\n",
        "        if len(word[i]) > n:\n",
        "            lst.append(word[i])\n",
        "    print(lst)"
      ],
      "execution_count": 46,
      "outputs": []
    },
    {
      "cell_type": "code",
      "metadata": {
        "id": "nxmQopvTpzyQ",
        "colab_type": "code",
        "colab": {
          "base_uri": "https://localhost:8080/",
          "height": 34
        },
        "outputId": "4907b781-7d48-452c-819a-56c25ed9968c"
      },
      "source": [
        "filter_long_words(['i','love', 'you', 'my', 'brother'],2 )"
      ],
      "execution_count": 50,
      "outputs": [
        {
          "output_type": "stream",
          "text": [
            "['love', 'you', 'brother']\n"
          ],
          "name": "stdout"
        }
      ]
    },
    {
      "cell_type": "markdown",
      "metadata": {
        "id": "0I8J71hfssDS",
        "colab_type": "text"
      },
      "source": [
        "2.1 Write a Python program using function concept that maps list of words into a list of integers\n",
        "representing the lengths of the corresponding words.\n",
        "Hint: If a list [ ab,cde,erty] is passed on to the python function output should come as [2,3,4]\n",
        "Here 2,3 and 4 are the lengths of the words in the list."
      ]
    },
    {
      "cell_type": "code",
      "metadata": {
        "id": "IsumMqnep2oX",
        "colab_type": "code",
        "colab": {}
      },
      "source": [
        "def len_words(words):\n",
        "    lst = []\n",
        "    for i in range(len(words)):\n",
        "        lst.append(len(words[i]))\n",
        "    print(lst)"
      ],
      "execution_count": 72,
      "outputs": []
    },
    {
      "cell_type": "code",
      "metadata": {
        "id": "sI_PruzGtnsx",
        "colab_type": "code",
        "colab": {
          "base_uri": "https://localhost:8080/",
          "height": 34
        },
        "outputId": "62f82994-3c7f-4c18-cd6b-bb86fb157911"
      },
      "source": [
        "len_words(['i','love', 'you', 'my', 'brother'])"
      ],
      "execution_count": 73,
      "outputs": [
        {
          "output_type": "stream",
          "text": [
            "[1, 4, 3, 2, 7]\n"
          ],
          "name": "stdout"
        }
      ]
    },
    {
      "cell_type": "markdown",
      "metadata": {
        "id": "2-4BmiF_uCIu",
        "colab_type": "text"
      },
      "source": [
        "2.2 Write a Python function which takes a character (i.e. a string of length 1) and returns True if\n",
        "it is a vowel, False otherwise."
      ]
    },
    {
      "cell_type": "code",
      "metadata": {
        "id": "8BOUPznctsHP",
        "colab_type": "code",
        "colab": {}
      },
      "source": [
        "def is_vowel_single(word):\n",
        "    # for i in range(len(word)):\n",
        "    for i in word:\n",
        "        if i in ['a', 'e', 'i', 'o', 'u']:\n",
        "            return True\n",
        "        else:\n",
        "            return False"
      ],
      "execution_count": 245,
      "outputs": []
    },
    {
      "cell_type": "code",
      "metadata": {
        "id": "L3OZgv4ixuyU",
        "colab_type": "code",
        "colab": {}
      },
      "source": [
        "def is_vowel(word):\n",
        "    # for i in range(len(word)):\n",
        "    lst = []\n",
        "    for i in range(len(word)):\n",
        "        for j in word[i]:\n",
        "            if j in ['a', 'e', 'i', 'o', 'u', 's', 'A', 'E', 'I', 'O', 'U', 'S']:\n",
        "                lst.append('True')\n",
        "                break\n",
        "        else:\n",
        "            lst.append('False')           \n",
        "    print(lst)"
      ],
      "execution_count": 257,
      "outputs": []
    },
    {
      "cell_type": "code",
      "metadata": {
        "id": "mLdsOlA5xnyv",
        "colab_type": "code",
        "colab": {
          "base_uri": "https://localhost:8080/",
          "height": 34
        },
        "outputId": "34c953f0-079b-4bf9-e49b-baaa27946d26"
      },
      "source": [
        "is_vowel(['apple', 'orange', 'nn', 'nmpq', 'SHYAM'])"
      ],
      "execution_count": 260,
      "outputs": [
        {
          "output_type": "stream",
          "text": [
            "['True', 'True', 'False', 'False', 'True']\n"
          ],
          "name": "stdout"
        }
      ]
    },
    {
      "cell_type": "code",
      "metadata": {
        "id": "kyaRgMs3IBaz",
        "colab_type": "code",
        "colab": {}
      },
      "source": [
        ""
      ],
      "execution_count": null,
      "outputs": []
    },
    {
      "cell_type": "code",
      "metadata": {
        "id": "I9Doe_gCHStm",
        "colab_type": "code",
        "colab": {}
      },
      "source": [
        ""
      ],
      "execution_count": null,
      "outputs": []
    }
  ]
}