{
  "nbformat": 4,
  "nbformat_minor": 0,
  "metadata": {
    "colab": {
      "name": "Python exception handling Assignment 5 - Ineuron",
      "provenance": [],
      "collapsed_sections": []
    },
    "kernelspec": {
      "name": "python3",
      "display_name": "Python 3"
    }
  },
  "cells": [
    {
      "cell_type": "markdown",
      "metadata": {
        "id": "dFgR0-sw5HE4",
        "colab_type": "text"
      },
      "source": [
        "1. Write a function to compute 5/0 and use try/except to catch the exceptions"
      ]
    },
    {
      "cell_type": "code",
      "metadata": {
        "id": "B6PHA5DD5H4c",
        "colab_type": "code",
        "colab": {}
      },
      "source": [
        "def compute():\n",
        "    a = int(input('Enter the First integer : '))\n",
        "    b = int(input('Enter the Second integer : '))\n",
        "\n",
        "    try:\n",
        "        print('The division of first and second integer is : {}'.format(a/b))\n",
        "    except IOError:    #Exception as e\n",
        "        print('Please enter the correct integer')\n"
      ],
      "execution_count": 44,
      "outputs": []
    },
    {
      "cell_type": "code",
      "metadata": {
        "id": "2Lo8LG5x68FK",
        "colab_type": "code",
        "colab": {
          "base_uri": "https://localhost:8080/",
          "height": 313
        },
        "outputId": "ac04d9e6-b25e-4def-af11-a178f3f7abb0"
      },
      "source": [
        "compute()"
      ],
      "execution_count": 47,
      "outputs": [
        {
          "output_type": "stream",
          "text": [
            "Enter the First integer : 5\n",
            "Enter the Second integer : 0\n"
          ],
          "name": "stdout"
        },
        {
          "output_type": "error",
          "ename": "ZeroDivisionError",
          "evalue": "ignored",
          "traceback": [
            "\u001b[0;31m---------------------------------------------------------------------------\u001b[0m",
            "\u001b[0;31mZeroDivisionError\u001b[0m                         Traceback (most recent call last)",
            "\u001b[0;32m<ipython-input-47-bab79c2bc632>\u001b[0m in \u001b[0;36m<module>\u001b[0;34m()\u001b[0m\n\u001b[0;32m----> 1\u001b[0;31m \u001b[0mcompute\u001b[0m\u001b[0;34m(\u001b[0m\u001b[0;34m)\u001b[0m\u001b[0;34m\u001b[0m\u001b[0;34m\u001b[0m\u001b[0m\n\u001b[0m",
            "\u001b[0;32m<ipython-input-44-57905cb09c73>\u001b[0m in \u001b[0;36mcompute\u001b[0;34m()\u001b[0m\n\u001b[1;32m      4\u001b[0m \u001b[0;34m\u001b[0m\u001b[0m\n\u001b[1;32m      5\u001b[0m     \u001b[0;32mtry\u001b[0m\u001b[0;34m:\u001b[0m\u001b[0;34m\u001b[0m\u001b[0;34m\u001b[0m\u001b[0m\n\u001b[0;32m----> 6\u001b[0;31m         \u001b[0mprint\u001b[0m\u001b[0;34m(\u001b[0m\u001b[0;34m'The division of first and second integer is : {}'\u001b[0m\u001b[0;34m.\u001b[0m\u001b[0mformat\u001b[0m\u001b[0;34m(\u001b[0m\u001b[0ma\u001b[0m\u001b[0;34m/\u001b[0m\u001b[0mb\u001b[0m\u001b[0;34m)\u001b[0m\u001b[0;34m)\u001b[0m\u001b[0;34m\u001b[0m\u001b[0;34m\u001b[0m\u001b[0m\n\u001b[0m\u001b[1;32m      7\u001b[0m     \u001b[0;32mexcept\u001b[0m \u001b[0mIOError\u001b[0m\u001b[0;34m:\u001b[0m    \u001b[0;31m#Exception as e\u001b[0m\u001b[0;34m\u001b[0m\u001b[0;34m\u001b[0m\u001b[0m\n\u001b[1;32m      8\u001b[0m         \u001b[0mprint\u001b[0m\u001b[0;34m(\u001b[0m\u001b[0;34m'Please enter the correct integer'\u001b[0m\u001b[0;34m)\u001b[0m\u001b[0;34m\u001b[0m\u001b[0;34m\u001b[0m\u001b[0m\n",
            "\u001b[0;31mZeroDivisionError\u001b[0m: division by zero"
          ]
        }
      ]
    },
    {
      "cell_type": "markdown",
      "metadata": {
        "id": "1sxocDRD9tSc",
        "colab_type": "text"
      },
      "source": [
        "2. Implement a Python program to generate all sentences where subject is in\n",
        "[\"Americans\", \"Indians\"] and verb is in [\"Play\", \"watch\"] and the object is in\n",
        "[\"Baseball\",\"cricket\"]. <br>\n",
        "\n",
        "Hint: Subject,Verb and Object should be declared in the program as shown below.<br>\n",
        "subjects=[\"Americans \",\"Indians\"]<br>\n",
        "verbs=[\"play\",\"watch\"]<br>\n",
        "objects=[\"Baseball\",\"Cricket\"]<br>\n",
        "Output should come as below:<br>\n",
        "Americans play Baseball.<br>\n",
        "Americans play Cricket.<br>\n",
        "Americans watch Baseball.<br>\n",
        "Americans watch Cricket.<br>\n",
        "Indians play Baseball.<br>\n",
        "Indians play Cricket.<br>\n",
        "Indians watch Baseball.<br>\n",
        "Indians watch Cricket.<br>"
      ]
    },
    {
      "cell_type": "code",
      "metadata": {
        "id": "6xmYHrWZ9D4T",
        "colab_type": "code",
        "colab": {
          "base_uri": "https://localhost:8080/",
          "height": 151
        },
        "outputId": "4e34547f-cf60-45bc-891f-e6e7409d5ac4"
      },
      "source": [
        "subjects=[\"Americans \",\"Indians\"]\n",
        "verbs=[\"play\",\"watch\"]\n",
        "objects=[\"Baseball\",\"Cricket\"]\n",
        "\n",
        "[i+' ' + j+' ' + k+' ' for i in[\"Americans\",\"Indians\"] for j in [\"play\",\"watch\"] for k in [\"Baseball\",\"Cricket\"] ]"
      ],
      "execution_count": 40,
      "outputs": [
        {
          "output_type": "execute_result",
          "data": {
            "text/plain": [
              "['Americans play Baseball ',\n",
              " 'Americans play Cricket ',\n",
              " 'Americans watch Baseball ',\n",
              " 'Americans watch Cricket ',\n",
              " 'Indians play Baseball ',\n",
              " 'Indians play Cricket ',\n",
              " 'Indians watch Baseball ',\n",
              " 'Indians watch Cricket ']"
            ]
          },
          "metadata": {
            "tags": []
          },
          "execution_count": 40
        }
      ]
    },
    {
      "cell_type": "code",
      "metadata": {
        "id": "YnJpLxeZ-XrW",
        "colab_type": "code",
        "colab": {}
      },
      "source": [
        ""
      ],
      "execution_count": null,
      "outputs": []
    }
  ]
}